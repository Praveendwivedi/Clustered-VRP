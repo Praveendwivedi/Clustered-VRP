{
  "nbformat": 4,
  "nbformat_minor": 0,
  "metadata": {
    "colab": {
      "name": "autoclustering.ipynb",
      "provenance": [],
      "authorship_tag": "ABX9TyMdFOpuEqEoOrc+uE28hoKo",
      "include_colab_link": true
    },
    "kernelspec": {
      "name": "python3",
      "display_name": "Python 3"
    },
    "language_info": {
      "name": "python"
    }
  },
  "cells": [
    {
      "cell_type": "markdown",
      "metadata": {
        "id": "view-in-github",
        "colab_type": "text"
      },
      "source": [
        "<a href=\"https://colab.research.google.com/github/Praveendwivedi/VehicleRoutingProblem/blob/main/clustering-algos/autoclustering.ipynb\" target=\"_parent\"><img src=\"https://colab.research.google.com/assets/colab-badge.svg\" alt=\"Open In Colab\"/></a>"
      ]
    },
    {
      "cell_type": "code",
      "metadata": {
        "id": "GNKW2ccIOoSr",
        "colab": {
          "base_uri": "https://localhost:8080/",
          "height": 1000
        },
        "outputId": "b0daaa8d-c8dc-4c65-e4ed-6921d7005af8"
      },
      "source": [
        "!pip install smac==0.8.0\n",
        "!pip install autocluster\n"
      ],
      "execution_count": 4,
      "outputs": [
        {
          "output_type": "stream",
          "text": [
            "Collecting smac==0.8.0\n",
            "\u001b[?25l  Downloading https://files.pythonhosted.org/packages/33/ab/2b0a6fb00bd76e2415a04dcca453ad0b0db9b4218b02401306ff2bc6135d/smac-0.8.0.tar.gz (94kB)\n",
            "\r\u001b[K     |███▌                            | 10kB 14.4MB/s eta 0:00:01\r\u001b[K     |███████                         | 20kB 19.2MB/s eta 0:00:01\r\u001b[K     |██████████▍                     | 30kB 15.7MB/s eta 0:00:01\r\u001b[K     |█████████████▉                  | 40kB 13.6MB/s eta 0:00:01\r\u001b[K     |█████████████████▎              | 51kB 8.0MB/s eta 0:00:01\r\u001b[K     |████████████████████▊           | 61kB 7.5MB/s eta 0:00:01\r\u001b[K     |████████████████████████▏       | 71kB 8.5MB/s eta 0:00:01\r\u001b[K     |███████████████████████████▋    | 81kB 8.9MB/s eta 0:00:01\r\u001b[K     |███████████████████████████████ | 92kB 9.1MB/s eta 0:00:01\r\u001b[K     |████████████████████████████████| 102kB 5.8MB/s \n",
            "\u001b[?25hRequirement already satisfied: setuptools in /usr/local/lib/python3.7/dist-packages (from smac==0.8.0) (56.1.0)\n",
            "Requirement already satisfied: cython in /usr/local/lib/python3.7/dist-packages (from smac==0.8.0) (0.29.23)\n",
            "Requirement already satisfied: numpy>=1.7.1 in /usr/local/lib/python3.7/dist-packages (from smac==0.8.0) (1.19.5)\n",
            "Requirement already satisfied: scipy>=0.18.1 in /usr/local/lib/python3.7/dist-packages (from smac==0.8.0) (1.4.1)\n",
            "Requirement already satisfied: six in /usr/local/lib/python3.7/dist-packages (from smac==0.8.0) (1.15.0)\n",
            "Requirement already satisfied: psutil in /usr/local/lib/python3.7/dist-packages (from smac==0.8.0) (5.4.8)\n",
            "Collecting pynisher>=0.4.1\n",
            "  Downloading https://files.pythonhosted.org/packages/8d/39/edac9acf3bd245ecf475151014cce3652c25ca3c2352eac725502cfce6ea/pynisher-0.6.4.tar.gz\n",
            "Collecting ConfigSpace<0.5,>=0.4.3\n",
            "\u001b[?25l  Downloading https://files.pythonhosted.org/packages/3e/19/726bcb262949ec28c71ba571bfb1a0006f985e7141a83cff34c733c75739/ConfigSpace-0.4.19-cp37-cp37m-manylinux2014_x86_64.whl (4.2MB)\n",
            "\u001b[K     |████████████████████████████████| 4.2MB 34.9MB/s \n",
            "\u001b[?25hRequirement already satisfied: scikit-learn>=0.18.0 in /usr/local/lib/python3.7/dist-packages (from smac==0.8.0) (0.22.2.post1)\n",
            "Collecting typing\n",
            "\u001b[?25l  Downloading https://files.pythonhosted.org/packages/05/d9/6eebe19d46bd05360c9a9aae822e67a80f9242aabbfc58b641b957546607/typing-3.7.4.3.tar.gz (78kB)\n",
            "\u001b[K     |████████████████████████████████| 81kB 10.0MB/s \n",
            "\u001b[?25hCollecting pyrfr>=0.5.0\n",
            "\u001b[?25l  Downloading https://files.pythonhosted.org/packages/8b/1a/56b630c949e942d12f4ad5f4fd240c1cf2e1260e5126190b171ca2aa9199/pyrfr-0.8.2-cp37-cp37m-manylinux2014_x86_64.whl (4.0MB)\n",
            "\u001b[K     |████████████████████████████████| 4.0MB 37.2MB/s \n",
            "\u001b[?25hRequirement already satisfied: sphinx in /usr/local/lib/python3.7/dist-packages (from smac==0.8.0) (1.8.5)\n",
            "Collecting sphinx_rtd_theme\n",
            "\u001b[?25l  Downloading https://files.pythonhosted.org/packages/ac/24/2475e8f83519b54b2148d4a56eb1111f9cec630d088c3ffc214492c12107/sphinx_rtd_theme-0.5.2-py2.py3-none-any.whl (9.1MB)\n",
            "\u001b[K     |████████████████████████████████| 9.2MB 34.3MB/s \n",
            "\u001b[?25hRequirement already satisfied: joblib in /usr/local/lib/python3.7/dist-packages (from smac==0.8.0) (1.0.1)\n",
            "Requirement already satisfied: pyparsing in /usr/local/lib/python3.7/dist-packages (from ConfigSpace<0.5,>=0.4.3->smac==0.8.0) (2.4.7)\n",
            "Requirement already satisfied: requests>=2.0.0 in /usr/local/lib/python3.7/dist-packages (from sphinx->smac==0.8.0) (2.23.0)\n",
            "Requirement already satisfied: babel!=2.0,>=1.3 in /usr/local/lib/python3.7/dist-packages (from sphinx->smac==0.8.0) (2.9.1)\n",
            "Requirement already satisfied: packaging in /usr/local/lib/python3.7/dist-packages (from sphinx->smac==0.8.0) (20.9)\n",
            "Requirement already satisfied: docutils>=0.11 in /usr/local/lib/python3.7/dist-packages (from sphinx->smac==0.8.0) (0.17.1)\n",
            "Requirement already satisfied: Jinja2>=2.3 in /usr/local/lib/python3.7/dist-packages (from sphinx->smac==0.8.0) (2.11.3)\n",
            "Requirement already satisfied: snowballstemmer>=1.1 in /usr/local/lib/python3.7/dist-packages (from sphinx->smac==0.8.0) (2.1.0)\n",
            "Requirement already satisfied: alabaster<0.8,>=0.7 in /usr/local/lib/python3.7/dist-packages (from sphinx->smac==0.8.0) (0.7.12)\n",
            "Requirement already satisfied: sphinxcontrib-websupport in /usr/local/lib/python3.7/dist-packages (from sphinx->smac==0.8.0) (1.2.4)\n",
            "Requirement already satisfied: imagesize in /usr/local/lib/python3.7/dist-packages (from sphinx->smac==0.8.0) (1.2.0)\n",
            "Requirement already satisfied: Pygments>=2.0 in /usr/local/lib/python3.7/dist-packages (from sphinx->smac==0.8.0) (2.6.1)\n",
            "Requirement already satisfied: chardet<4,>=3.0.2 in /usr/local/lib/python3.7/dist-packages (from requests>=2.0.0->sphinx->smac==0.8.0) (3.0.4)\n",
            "Requirement already satisfied: certifi>=2017.4.17 in /usr/local/lib/python3.7/dist-packages (from requests>=2.0.0->sphinx->smac==0.8.0) (2020.12.5)\n",
            "Requirement already satisfied: urllib3!=1.25.0,!=1.25.1,<1.26,>=1.21.1 in /usr/local/lib/python3.7/dist-packages (from requests>=2.0.0->sphinx->smac==0.8.0) (1.24.3)\n",
            "Requirement already satisfied: idna<3,>=2.5 in /usr/local/lib/python3.7/dist-packages (from requests>=2.0.0->sphinx->smac==0.8.0) (2.10)\n",
            "Requirement already satisfied: pytz>=2015.7 in /usr/local/lib/python3.7/dist-packages (from babel!=2.0,>=1.3->sphinx->smac==0.8.0) (2018.9)\n",
            "Requirement already satisfied: MarkupSafe>=0.23 in /usr/local/lib/python3.7/dist-packages (from Jinja2>=2.3->sphinx->smac==0.8.0) (2.0.1)\n",
            "Requirement already satisfied: sphinxcontrib-serializinghtml in /usr/local/lib/python3.7/dist-packages (from sphinxcontrib-websupport->sphinx->smac==0.8.0) (1.1.4)\n",
            "Building wheels for collected packages: smac, pynisher, typing\n",
            "  Building wheel for smac (setup.py) ... \u001b[?25l\u001b[?25hdone\n",
            "  Created wheel for smac: filename=smac-0.8.0-cp37-none-any.whl size=97295 sha256=ea088f0b8b006f71bab321eaefe4b292aee68f09c1048e7135cf3dcd29c2abb4\n",
            "  Stored in directory: /root/.cache/pip/wheels/12/52/83/d2d66a840968025d072ddb1cd776fdc5eb5e337e1cc887bc3f\n",
            "  Building wheel for pynisher (setup.py) ... \u001b[?25l\u001b[?25hdone\n",
            "  Created wheel for pynisher: filename=pynisher-0.6.4-cp37-none-any.whl size=7045 sha256=6786e567db308b43cce72cfef46625c00590909d3c49ad015661047c56393891\n",
            "  Stored in directory: /root/.cache/pip/wheels/70/07/6b/c0e6d547d91cd50a30207421c3c3a63d71f195255c66401209\n",
            "  Building wheel for typing (setup.py) ... \u001b[?25l\u001b[?25hdone\n",
            "  Created wheel for typing: filename=typing-3.7.4.3-cp37-none-any.whl size=26308 sha256=13265dd8da2f6f588428a9341e81c9945fe06360b07e2d038071c7f5efff10f0\n",
            "  Stored in directory: /root/.cache/pip/wheels/2d/04/41/8e1836e79581989c22eebac3f4e70aaac9af07b0908da173be\n",
            "Successfully built smac pynisher typing\n",
            "\u001b[31mERROR: sphinx-rtd-theme 0.5.2 has requirement docutils<0.17, but you'll have docutils 0.17.1 which is incompatible.\u001b[0m\n",
            "Installing collected packages: pynisher, ConfigSpace, typing, pyrfr, sphinx-rtd-theme, smac\n",
            "Successfully installed ConfigSpace-0.4.19 pynisher-0.6.4 pyrfr-0.8.2 smac-0.8.0 sphinx-rtd-theme-0.5.2 typing-3.7.4.3\n"
          ],
          "name": "stdout"
        },
        {
          "output_type": "display_data",
          "data": {
            "application/vnd.colab-display-data+json": {
              "pip_warning": {
                "packages": [
                  "typing"
                ]
              }
            }
          },
          "metadata": {
            "tags": []
          }
        },
        {
          "output_type": "stream",
          "text": [
            "Collecting autocluster\n",
            "  Downloading https://files.pythonhosted.org/packages/67/32/0183f0eb2594bf1bb419b1cc295dde7861e54a53a942eeec2b3185f6b5b0/autocluster-0.5.2-py3-none-any.whl\n",
            "Requirement already satisfied: cycler>=0.10.0 in /usr/local/lib/python3.7/dist-packages (from autocluster) (0.10.0)\n",
            "Collecting pandas==0.24.2\n",
            "\u001b[?25l  Downloading https://files.pythonhosted.org/packages/22/e6/2d47835f91eb010036be207581fa113fb4e3822ec1b4bafb0d3d105fede6/pandas-0.24.2-cp37-cp37m-manylinux1_x86_64.whl (10.1MB)\n",
            "\u001b[K     |████████████████████████████████| 10.1MB 10.6MB/s \n",
            "\u001b[?25hRequirement already satisfied: sklearn==0.0 in /usr/local/lib/python3.7/dist-packages (from autocluster) (0.0)\n",
            "Requirement already satisfied: numpy>=1.12.0 in /usr/local/lib/python3.7/dist-packages (from autocluster) (1.19.5)\n",
            "Requirement already satisfied: scipy>=0.17.0 in /usr/local/lib/python3.7/dist-packages (from autocluster) (1.4.1)\n",
            "Collecting pyparsing==2.4.0\n",
            "\u001b[?25l  Downloading https://files.pythonhosted.org/packages/dd/d9/3ec19e966301a6e25769976999bd7bbe552016f0d32b577dc9d63d2e0c49/pyparsing-2.4.0-py2.py3-none-any.whl (62kB)\n",
            "\u001b[K     |████████████████████████████████| 71kB 9.0MB/s \n",
            "\u001b[?25hRequirement already satisfied: kiwisolver>=1.0.1 in /usr/local/lib/python3.7/dist-packages (from autocluster) (1.3.1)\n",
            "Collecting pytz==2019.1\n",
            "\u001b[?25l  Downloading https://files.pythonhosted.org/packages/3d/73/fe30c2daaaa0713420d0382b16fbb761409f532c56bdcc514bf7b6262bb6/pytz-2019.1-py2.py3-none-any.whl (510kB)\n",
            "\u001b[K     |████████████████████████████████| 512kB 33.9MB/s \n",
            "\u001b[?25hRequirement already satisfied: python-dateutil>=2.5.0 in /usr/local/lib/python3.7/dist-packages (from autocluster) (2.8.1)\n",
            "Requirement already satisfied: six>=1.5.0 in /usr/local/lib/python3.7/dist-packages (from autocluster) (1.15.0)\n",
            "Requirement already satisfied: joblib>=0.11.0 in /usr/local/lib/python3.7/dist-packages (from autocluster) (1.0.1)\n",
            "Collecting scikit-learn==0.21.3\n",
            "\u001b[?25l  Downloading https://files.pythonhosted.org/packages/9f/c5/e5267eb84994e9a92a2c6a6ee768514f255d036f3c8378acfa694e9f2c99/scikit_learn-0.21.3-cp37-cp37m-manylinux1_x86_64.whl (6.7MB)\n",
            "\u001b[K     |████████████████████████████████| 6.7MB 19.7MB/s \n",
            "\u001b[?25hCollecting matplotlib==3.0.3\n",
            "\u001b[?25l  Downloading https://files.pythonhosted.org/packages/83/2a/e47bbd9396af32376863a426baed62d9bf3091f81defd1fe81c5f33b11a3/matplotlib-3.0.3-cp37-cp37m-manylinux1_x86_64.whl (13.0MB)\n",
            "\u001b[K     |████████████████████████████████| 13.0MB 146kB/s \n",
            "\u001b[31mERROR: xarray 0.18.2 has requirement pandas>=1.0, but you'll have pandas 0.24.2 which is incompatible.\u001b[0m\n",
            "\u001b[31mERROR: plotnine 0.6.0 has requirement matplotlib>=3.1.1, but you'll have matplotlib 3.0.3 which is incompatible.\u001b[0m\n",
            "\u001b[31mERROR: plotnine 0.6.0 has requirement pandas>=0.25.0, but you'll have pandas 0.24.2 which is incompatible.\u001b[0m\n",
            "\u001b[31mERROR: mizani 0.6.0 has requirement matplotlib>=3.1.1, but you'll have matplotlib 3.0.3 which is incompatible.\u001b[0m\n",
            "\u001b[31mERROR: mizani 0.6.0 has requirement pandas>=0.25.0, but you'll have pandas 0.24.2 which is incompatible.\u001b[0m\n",
            "\u001b[31mERROR: google-colab 1.0.0 has requirement pandas~=1.1.0; python_version >= \"3.0\", but you'll have pandas 0.24.2 which is incompatible.\u001b[0m\n",
            "\u001b[31mERROR: fbprophet 0.7.1 has requirement pandas>=1.0.4, but you'll have pandas 0.24.2 which is incompatible.\u001b[0m\n",
            "\u001b[31mERROR: albumentations 0.1.12 has requirement imgaug<0.2.7,>=0.2.5, but you'll have imgaug 0.2.9 which is incompatible.\u001b[0m\n",
            "\u001b[?25hInstalling collected packages: pytz, pandas, pyparsing, scikit-learn, matplotlib, autocluster\n",
            "  Found existing installation: pytz 2018.9\n",
            "    Uninstalling pytz-2018.9:\n",
            "      Successfully uninstalled pytz-2018.9\n",
            "  Found existing installation: pandas 1.1.5\n",
            "    Uninstalling pandas-1.1.5:\n",
            "      Successfully uninstalled pandas-1.1.5\n",
            "  Found existing installation: pyparsing 2.4.7\n",
            "    Uninstalling pyparsing-2.4.7:\n",
            "      Successfully uninstalled pyparsing-2.4.7\n",
            "  Found existing installation: scikit-learn 0.22.2.post1\n",
            "    Uninstalling scikit-learn-0.22.2.post1:\n",
            "      Successfully uninstalled scikit-learn-0.22.2.post1\n",
            "  Found existing installation: matplotlib 3.2.2\n",
            "    Uninstalling matplotlib-3.2.2:\n",
            "      Successfully uninstalled matplotlib-3.2.2\n",
            "Successfully installed autocluster-0.5.2 matplotlib-3.0.3 pandas-0.24.2 pyparsing-2.4.0 pytz-2019.1 scikit-learn-0.21.3\n"
          ],
          "name": "stdout"
        },
        {
          "output_type": "display_data",
          "data": {
            "application/vnd.colab-display-data+json": {
              "pip_warning": {
                "packages": [
                  "matplotlib",
                  "mpl_toolkits",
                  "pandas",
                  "pyparsing",
                  "pytz",
                  "sklearn"
                ]
              }
            }
          },
          "metadata": {
            "tags": []
          }
        }
      ]
    },
    {
      "cell_type": "code",
      "metadata": {
        "id": "5AAxIwylSFsk"
      },
      "source": [
        "# we will be using sample datasets in sklearn\n",
        "from sklearn import datasets\n",
        "from collections import Counter\n",
        "import pandas as pd\n",
        "\n",
        "# autocluster functionalities\n",
        "import autocluster\n",
        "from autocluster import AutoCluster, get_evaluator"
      ],
      "execution_count": 1,
      "outputs": []
    },
    {
      "cell_type": "code",
      "metadata": {
        "colab": {
          "base_uri": "https://localhost:8080/",
          "height": 206
        },
        "id": "pdrDFRdmSMmF",
        "outputId": "16a4bcde-f781-4833-a2d5-f790c887fd5e"
      },
      "source": [
        "'''X, y = datasets.make_blobs(n_samples=5000, \n",
        "                           n_features=2, \n",
        "                           centers=100, \n",
        "                           cluster_std=0.4, \n",
        "                           shuffle=True, random_state=27)'''\n",
        "\n",
        "dummy_df = pd.DataFrame(X)\n",
        "dummy_df.head(5)"
      ],
      "execution_count": null,
      "outputs": [
        {
          "output_type": "execute_result",
          "data": {
            "text/html": [
              "<div>\n",
              "<style scoped>\n",
              "    .dataframe tbody tr th:only-of-type {\n",
              "        vertical-align: middle;\n",
              "    }\n",
              "\n",
              "    .dataframe tbody tr th {\n",
              "        vertical-align: top;\n",
              "    }\n",
              "\n",
              "    .dataframe thead th {\n",
              "        text-align: right;\n",
              "    }\n",
              "</style>\n",
              "<table border=\"1\" class=\"dataframe\">\n",
              "  <thead>\n",
              "    <tr style=\"text-align: right;\">\n",
              "      <th></th>\n",
              "      <th>0</th>\n",
              "      <th>1</th>\n",
              "    </tr>\n",
              "  </thead>\n",
              "  <tbody>\n",
              "    <tr>\n",
              "      <th>0</th>\n",
              "      <td>2.000000</td>\n",
              "      <td>3.000000</td>\n",
              "    </tr>\n",
              "    <tr>\n",
              "      <th>1</th>\n",
              "      <td>0.387577</td>\n",
              "      <td>0.268546</td>\n",
              "    </tr>\n",
              "    <tr>\n",
              "      <th>2</th>\n",
              "      <td>0.176780</td>\n",
              "      <td>0.582963</td>\n",
              "    </tr>\n",
              "    <tr>\n",
              "      <th>3</th>\n",
              "      <td>3.277701</td>\n",
              "      <td>0.814082</td>\n",
              "    </tr>\n",
              "    <tr>\n",
              "      <th>4</th>\n",
              "      <td>0.387577</td>\n",
              "      <td>0.176780</td>\n",
              "    </tr>\n",
              "  </tbody>\n",
              "</table>\n",
              "</div>"
            ],
            "text/plain": [
              "          0         1\n",
              "0  2.000000  3.000000\n",
              "1  0.387577  0.268546\n",
              "2  0.176780  0.582963\n",
              "3  3.277701  0.814082\n",
              "4  0.387577  0.176780"
            ]
          },
          "metadata": {
            "tags": []
          },
          "execution_count": 37
        }
      ]
    },
    {
      "cell_type": "code",
      "metadata": {
        "id": "mUwGrfnThvp7"
      },
      "source": [
        ""
      ],
      "execution_count": null,
      "outputs": []
    },
    {
      "cell_type": "code",
      "metadata": {
        "id": "lCoeomuuj9kT",
        "colab": {
          "base_uri": "https://localhost:8080/"
        },
        "outputId": "864a0261-4683-4656-dee5-99d60ead4ad7"
      },
      "source": [
        "!wget https://raw.githubusercontent.com/Praveendwivedi/VehicleRoutingProblem/main/clustering-algos/samplelocds.csv"
      ],
      "execution_count": 5,
      "outputs": [
        {
          "output_type": "stream",
          "text": [
            "--2021-05-29 19:11:44--  https://raw.githubusercontent.com/Praveendwivedi/VehicleRoutingProblem/main/clustering-algos/samplelocds.csv\n",
            "Resolving raw.githubusercontent.com (raw.githubusercontent.com)... 185.199.109.133, 185.199.110.133, 185.199.111.133, ...\n",
            "Connecting to raw.githubusercontent.com (raw.githubusercontent.com)|185.199.109.133|:443... connected.\n",
            "HTTP request sent, awaiting response... 200 OK\n",
            "Length: 42008 (41K) [text/plain]\n",
            "Saving to: ‘samplelocds.csv.1’\n",
            "\n",
            "\rsamplelocds.csv.1     0%[                    ]       0  --.-KB/s               \rsamplelocds.csv.1   100%[===================>]  41.02K  --.-KB/s    in 0.006s  \n",
            "\n",
            "2021-05-29 19:11:44 (6.35 MB/s) - ‘samplelocds.csv.1’ saved [42008/42008]\n",
            "\n"
          ],
          "name": "stdout"
        }
      ]
    },
    {
      "cell_type": "code",
      "metadata": {
        "colab": {
          "base_uri": "https://localhost:8080/"
        },
        "id": "wnOduQGyhqaN",
        "outputId": "82934ed3-3b6f-42fc-b6b4-41f5d2a5acf3"
      },
      "source": [
        "import  pandas as pd\n",
        "data=pd.read_csv('samplelocds.csv')\n",
        "Y=data['Latitude']\n",
        "X=data['Longitude']\n",
        "data.head()\n",
        "print(len(X))\n",
        "input_data=[[X[i],Y[i]] for i in range(len(X))]"
      ],
      "execution_count": 2,
      "outputs": [
        {
          "output_type": "stream",
          "text": [
            "925\n"
          ],
          "name": "stdout"
        }
      ]
    },
    {
      "cell_type": "code",
      "metadata": {
        "id": "TydWEiVWiBpR"
      },
      "source": [
        "dummy_df = pd.DataFrame(input_data)"
      ],
      "execution_count": 3,
      "outputs": []
    },
    {
      "cell_type": "code",
      "metadata": {
        "colab": {
          "base_uri": "https://localhost:8080/"
        },
        "id": "lIXr0xbYSXGJ",
        "outputId": "9fa80e68-efc3-4c94-f79e-b84d94c6d680"
      },
      "source": [
        "# 'TSNE', 'PCA', 'IncrementalPCA', \n",
        "        # 'KernelPCA', 'FastICA', 'TruncatedSVD'\n",
        "cluster = AutoCluster(logger=None)\n",
        "fit_params = {\n",
        "    \"df\": dummy_df, \n",
        "    \"cluster_alg_ls\": [\n",
        "         'DBSCAN','OPTICS','KMeans', 'Birch', 'SpectralClustering'\n",
        "    ], \n",
        "    \"dim_reduction_alg_ls\": [\n",
        "        \n",
        "    ],\n",
        "    \"optimizer\": 'smac',\n",
        "    \"n_evaluations\": 400,\n",
        "    \"run_obj\": 'quality',\n",
        "    \"seed\": 27,\n",
        "    \"cutoff_time\": 100,\n",
        "    \"preprocess_dict\": {\n",
        "        \"numeric_cols\": list(range(2)),\n",
        "        \"categorical_cols\": [],\n",
        "        \"ordinal_cols\": [],\n",
        "        \"y_col\": []\n",
        "    },\n",
        "    \"evaluator\": get_evaluator(evaluator_ls = ['silhouetteScore', \n",
        "                                               'daviesBouldinScore', \n",
        "                                               'calinskiHarabaszScore'], \n",
        "                               weights = [1, 1, 1], \n",
        "                               clustering_num = None, \n",
        "                               min_proportion = .01, \n",
        "                               min_relative_proportion='default'),\n",
        "    \"n_folds\": 3,\n",
        "    \"warmstart\": False,\n",
        "    \"verbose_level\": 1,\n",
        "}\n",
        "result_dict = cluster.fit(**fit_params)"
      ],
      "execution_count": 4,
      "outputs": [
        {
          "output_type": "stream",
          "text": [
            "702/925 datapoints remaining after outlier removal\n",
            "Truncated n_evaluations: 80\n",
            "Fitting configuration: \n",
            "{'clustering_choice': 'DBSCAN', 'eps___DBSCAN': 0.01, 'min_samples___DBSCAN': 5}\n",
            "Score obtained by this configuration: 0.27019443237345514\n",
            "Fitting configuration: \n",
            "{'clustering_choice': 'SpectralClustering', 'affinity___SpectralClustering': 'poly', 'assign_labels___SpectralClustering': 'kmeans', 'eigen_solver___SpectralClustering': 'arpack', 'n_clusters___SpectralClustering': 61}\n",
            "Score obtained by this configuration: inf\n"
          ],
          "name": "stdout"
        },
        {
          "output_type": "stream",
          "text": [
            "Target Algorithm returned NaN or inf as quality. Algorithm run is treated as CRASHED, cost is set to 2147483647.0 for quality scenarios. (Change value through \"cost_for_crash\"-option.)\n"
          ],
          "name": "stderr"
        },
        {
          "output_type": "stream",
          "text": [
            "Fitting configuration: \n",
            "{'clustering_choice': 'DBSCAN', 'eps___DBSCAN': 2.7557765108789174, 'min_samples___DBSCAN': 58}\n",
            "Score obtained by this configuration: inf\n"
          ],
          "name": "stdout"
        },
        {
          "output_type": "stream",
          "text": [
            "Target Algorithm returned NaN or inf as quality. Algorithm run is treated as CRASHED, cost is set to 2147483647.0 for quality scenarios. (Change value through \"cost_for_crash\"-option.)\n"
          ],
          "name": "stderr"
        },
        {
          "output_type": "stream",
          "text": [
            "Fitting configuration: \n",
            "{'clustering_choice': 'Birch', 'branching_factor___Birch': 750, 'n_clusters___Birch': 77}\n"
          ],
          "name": "stdout"
        },
        {
          "output_type": "stream",
          "text": [
            "/usr/local/lib/python3.7/dist-packages/sklearn/cluster/birch.py:627: ConvergenceWarning: Number of subclusters found (5) by Birch is less than (77). Decrease the threshold.\n",
            "  % (len(centroids), self.n_clusters), ConvergenceWarning)\n",
            "/usr/local/lib/python3.7/dist-packages/sklearn/cluster/birch.py:627: ConvergenceWarning: Number of subclusters found (5) by Birch is less than (77). Decrease the threshold.\n",
            "  % (len(centroids), self.n_clusters), ConvergenceWarning)\n",
            "/usr/local/lib/python3.7/dist-packages/sklearn/cluster/birch.py:627: ConvergenceWarning: Number of subclusters found (6) by Birch is less than (77). Decrease the threshold.\n",
            "  % (len(centroids), self.n_clusters), ConvergenceWarning)\n",
            "/usr/local/lib/python3.7/dist-packages/sklearn/cluster/birch.py:627: ConvergenceWarning: Number of subclusters found (6) by Birch is less than (77). Decrease the threshold.\n",
            "  % (len(centroids), self.n_clusters), ConvergenceWarning)\n",
            "/usr/local/lib/python3.7/dist-packages/sklearn/cluster/birch.py:627: ConvergenceWarning: Number of subclusters found (6) by Birch is less than (77). Decrease the threshold.\n",
            "  % (len(centroids), self.n_clusters), ConvergenceWarning)\n",
            "/usr/local/lib/python3.7/dist-packages/sklearn/cluster/birch.py:627: ConvergenceWarning: Number of subclusters found (5) by Birch is less than (77). Decrease the threshold.\n",
            "  % (len(centroids), self.n_clusters), ConvergenceWarning)\n"
          ],
          "name": "stderr"
        },
        {
          "output_type": "stream",
          "text": [
            "Score obtained by this configuration: 0.19863234848574354\n",
            "Fitting configuration: \n",
            "{'clustering_choice': 'SpectralClustering', 'affinity___SpectralClustering': 'laplacian', 'assign_labels___SpectralClustering': 'kmeans', 'eigen_solver___SpectralClustering': 'arpack', 'n_clusters___SpectralClustering': 27}\n",
            "Score obtained by this configuration: inf\n"
          ],
          "name": "stdout"
        },
        {
          "output_type": "stream",
          "text": [
            "WARNING:smac.tae.execute_func.ExecuteTAFuncDict:Target Algorithm returned NaN or inf as quality. Algorithm run is treated as CRASHED, cost is set to 2147483647.0 for quality scenarios. (Change value through \"cost_for_crash\"-option.)\n"
          ],
          "name": "stderr"
        },
        {
          "output_type": "stream",
          "text": [
            "Fitting configuration: \n",
            "{'clustering_choice': 'DBSCAN', 'eps___DBSCAN': 3.2313553252665246, 'min_samples___DBSCAN': 75}\n",
            "Score obtained by this configuration: inf\n"
          ],
          "name": "stdout"
        },
        {
          "output_type": "stream",
          "text": [
            "WARNING:smac.tae.execute_func.ExecuteTAFuncDict:Target Algorithm returned NaN or inf as quality. Algorithm run is treated as CRASHED, cost is set to 2147483647.0 for quality scenarios. (Change value through \"cost_for_crash\"-option.)\n"
          ],
          "name": "stderr"
        },
        {
          "output_type": "stream",
          "text": [
            "Fitting configuration: \n",
            "{'clustering_choice': 'DBSCAN', 'eps___DBSCAN': 0.9830027430011568, 'min_samples___DBSCAN': 94}\n",
            "Score obtained by this configuration: 0.40641270602473717\n",
            "Fitting configuration: \n",
            "{'clustering_choice': 'Birch', 'branching_factor___Birch': 777, 'n_clusters___Birch': 48}\n"
          ],
          "name": "stdout"
        },
        {
          "output_type": "stream",
          "text": [
            "/usr/local/lib/python3.7/dist-packages/sklearn/cluster/birch.py:627: ConvergenceWarning: Number of subclusters found (5) by Birch is less than (48). Decrease the threshold.\n",
            "  % (len(centroids), self.n_clusters), ConvergenceWarning)\n",
            "/usr/local/lib/python3.7/dist-packages/sklearn/cluster/birch.py:627: ConvergenceWarning: Number of subclusters found (5) by Birch is less than (48). Decrease the threshold.\n",
            "  % (len(centroids), self.n_clusters), ConvergenceWarning)\n",
            "/usr/local/lib/python3.7/dist-packages/sklearn/cluster/birch.py:627: ConvergenceWarning: Number of subclusters found (6) by Birch is less than (48). Decrease the threshold.\n",
            "  % (len(centroids), self.n_clusters), ConvergenceWarning)\n",
            "/usr/local/lib/python3.7/dist-packages/sklearn/cluster/birch.py:627: ConvergenceWarning: Number of subclusters found (6) by Birch is less than (48). Decrease the threshold.\n",
            "  % (len(centroids), self.n_clusters), ConvergenceWarning)\n",
            "/usr/local/lib/python3.7/dist-packages/sklearn/cluster/birch.py:627: ConvergenceWarning: Number of subclusters found (6) by Birch is less than (48). Decrease the threshold.\n",
            "  % (len(centroids), self.n_clusters), ConvergenceWarning)\n",
            "/usr/local/lib/python3.7/dist-packages/sklearn/cluster/birch.py:627: ConvergenceWarning: Number of subclusters found (5) by Birch is less than (48). Decrease the threshold.\n",
            "  % (len(centroids), self.n_clusters), ConvergenceWarning)\n"
          ],
          "name": "stderr"
        },
        {
          "output_type": "stream",
          "text": [
            "Score obtained by this configuration: 0.19863234848574354\n",
            "Fitting configuration: \n",
            "{'clustering_choice': 'KMeans', 'n_clusters___KMeans': 75}\n"
          ],
          "name": "stdout"
        },
        {
          "output_type": "stream",
          "text": [
            "/usr/local/lib/python3.7/dist-packages/sklearn/cluster/k_means_.py:972: ConvergenceWarning: Number of distinct clusters (37) found smaller than n_clusters (75). Possibly due to duplicate points in X.\n",
            "  return_n_iter=True)\n",
            "/usr/local/lib/python3.7/dist-packages/sklearn/cluster/k_means_.py:972: ConvergenceWarning: Number of distinct clusters (36) found smaller than n_clusters (75). Possibly due to duplicate points in X.\n",
            "  return_n_iter=True)\n"
          ],
          "name": "stderr"
        },
        {
          "output_type": "stream",
          "text": [
            "Score obtained by this configuration: inf\n"
          ],
          "name": "stdout"
        },
        {
          "output_type": "stream",
          "text": [
            "WARNING:smac.tae.execute_func.ExecuteTAFuncDict:Target Algorithm returned NaN or inf as quality. Algorithm run is treated as CRASHED, cost is set to 2147483647.0 for quality scenarios. (Change value through \"cost_for_crash\"-option.)\n"
          ],
          "name": "stderr"
        },
        {
          "output_type": "stream",
          "text": [
            "Fitting configuration: \n",
            "{'clustering_choice': 'DBSCAN', 'eps___DBSCAN': 1.4099812202063038, 'min_samples___DBSCAN': 31}\n",
            "Score obtained by this configuration: 0.20228564230576374\n",
            "Fitting configuration: \n",
            "{'clustering_choice': 'DBSCAN', 'eps___DBSCAN': 0.31314492265641775, 'min_samples___DBSCAN': 51}\n",
            "Score obtained by this configuration: 0.3306624131333414\n",
            "Fitting configuration: \n",
            "{'clustering_choice': 'SpectralClustering', 'affinity___SpectralClustering': 'poly', 'assign_labels___SpectralClustering': 'kmeans', 'eigen_solver___SpectralClustering': 'arpack', 'n_clusters___SpectralClustering': 18}\n",
            "Score obtained by this configuration: inf\n"
          ],
          "name": "stdout"
        },
        {
          "output_type": "stream",
          "text": [
            "WARNING:smac.tae.execute_func.ExecuteTAFuncDict:Target Algorithm returned NaN or inf as quality. Algorithm run is treated as CRASHED, cost is set to 2147483647.0 for quality scenarios. (Change value through \"cost_for_crash\"-option.)\n"
          ],
          "name": "stderr"
        },
        {
          "output_type": "stream",
          "text": [
            "Fitting configuration: \n",
            "{'clustering_choice': 'DBSCAN', 'eps___DBSCAN': 0.5362150600160233, 'min_samples___DBSCAN': 28}\n",
            "Score obtained by this configuration: 0.26383406283504574\n",
            "Fitting configuration: \n",
            "{'clustering_choice': 'Birch', 'branching_factor___Birch': 668, 'n_clusters___Birch': 62}\n"
          ],
          "name": "stdout"
        },
        {
          "output_type": "stream",
          "text": [
            "/usr/local/lib/python3.7/dist-packages/sklearn/cluster/birch.py:627: ConvergenceWarning: Number of subclusters found (5) by Birch is less than (62). Decrease the threshold.\n",
            "  % (len(centroids), self.n_clusters), ConvergenceWarning)\n",
            "/usr/local/lib/python3.7/dist-packages/sklearn/cluster/birch.py:627: ConvergenceWarning: Number of subclusters found (5) by Birch is less than (62). Decrease the threshold.\n",
            "  % (len(centroids), self.n_clusters), ConvergenceWarning)\n",
            "/usr/local/lib/python3.7/dist-packages/sklearn/cluster/birch.py:627: ConvergenceWarning: Number of subclusters found (6) by Birch is less than (62). Decrease the threshold.\n",
            "  % (len(centroids), self.n_clusters), ConvergenceWarning)\n",
            "/usr/local/lib/python3.7/dist-packages/sklearn/cluster/birch.py:627: ConvergenceWarning: Number of subclusters found (6) by Birch is less than (62). Decrease the threshold.\n",
            "  % (len(centroids), self.n_clusters), ConvergenceWarning)\n",
            "/usr/local/lib/python3.7/dist-packages/sklearn/cluster/birch.py:627: ConvergenceWarning: Number of subclusters found (6) by Birch is less than (62). Decrease the threshold.\n",
            "  % (len(centroids), self.n_clusters), ConvergenceWarning)\n",
            "/usr/local/lib/python3.7/dist-packages/sklearn/cluster/birch.py:627: ConvergenceWarning: Number of subclusters found (5) by Birch is less than (62). Decrease the threshold.\n",
            "  % (len(centroids), self.n_clusters), ConvergenceWarning)\n"
          ],
          "name": "stderr"
        },
        {
          "output_type": "stream",
          "text": [
            "Score obtained by this configuration: 0.19863234848574354\n",
            "Fitting configuration: \n",
            "{'clustering_choice': 'DBSCAN', 'eps___DBSCAN': 3.9525999878844784, 'min_samples___DBSCAN': 49}\n",
            "Score obtained by this configuration: inf\n"
          ],
          "name": "stdout"
        },
        {
          "output_type": "stream",
          "text": [
            "WARNING:smac.tae.execute_func.ExecuteTAFuncDict:Target Algorithm returned NaN or inf as quality. Algorithm run is treated as CRASHED, cost is set to 2147483647.0 for quality scenarios. (Change value through \"cost_for_crash\"-option.)\n"
          ],
          "name": "stderr"
        },
        {
          "output_type": "stream",
          "text": [
            "Fitting configuration: \n",
            "{'clustering_choice': 'DBSCAN', 'eps___DBSCAN': 2.8727136796348054, 'min_samples___DBSCAN': 82}\n",
            "Score obtained by this configuration: inf\n"
          ],
          "name": "stdout"
        },
        {
          "output_type": "stream",
          "text": [
            "WARNING:smac.tae.execute_func.ExecuteTAFuncDict:Target Algorithm returned NaN or inf as quality. Algorithm run is treated as CRASHED, cost is set to 2147483647.0 for quality scenarios. (Change value through \"cost_for_crash\"-option.)\n"
          ],
          "name": "stderr"
        },
        {
          "output_type": "stream",
          "text": [
            "Fitting configuration: \n",
            "{'clustering_choice': 'DBSCAN', 'eps___DBSCAN': 3.4515943878229884, 'min_samples___DBSCAN': 50}\n",
            "Score obtained by this configuration: inf\n"
          ],
          "name": "stdout"
        },
        {
          "output_type": "stream",
          "text": [
            "WARNING:smac.tae.execute_func.ExecuteTAFuncDict:Target Algorithm returned NaN or inf as quality. Algorithm run is treated as CRASHED, cost is set to 2147483647.0 for quality scenarios. (Change value through \"cost_for_crash\"-option.)\n"
          ],
          "name": "stderr"
        },
        {
          "output_type": "stream",
          "text": [
            "Fitting configuration: \n",
            "{'clustering_choice': 'SpectralClustering', 'affinity___SpectralClustering': 'laplacian', 'assign_labels___SpectralClustering': 'discretize', 'eigen_solver___SpectralClustering': 'arpack', 'n_clusters___SpectralClustering': 70}\n",
            "Score obtained by this configuration: inf\n"
          ],
          "name": "stdout"
        },
        {
          "output_type": "stream",
          "text": [
            "WARNING:smac.tae.execute_func.ExecuteTAFuncDict:Target Algorithm returned NaN or inf as quality. Algorithm run is treated as CRASHED, cost is set to 2147483647.0 for quality scenarios. (Change value through \"cost_for_crash\"-option.)\n"
          ],
          "name": "stderr"
        },
        {
          "output_type": "stream",
          "text": [
            "Fitting configuration: \n",
            "{'clustering_choice': 'DBSCAN', 'eps___DBSCAN': 0.03553595405564264, 'min_samples___DBSCAN': 7}\n",
            "Score obtained by this configuration: 0.23964890521098284\n",
            "Fitting configuration: \n",
            "{'clustering_choice': 'SpectralClustering', 'affinity___SpectralClustering': 'nearest_neighbors', 'assign_labels___SpectralClustering': 'kmeans', 'eigen_solver___SpectralClustering': 'arpack', 'n_clusters___SpectralClustering': 27}\n"
          ],
          "name": "stdout"
        },
        {
          "output_type": "stream",
          "text": [
            "/usr/local/lib/python3.7/dist-packages/sklearn/manifold/spectral_embedding_.py:235: UserWarning: Graph is not fully connected, spectral embedding may not work as expected.\n",
            "  warnings.warn(\"Graph is not fully connected, spectral embedding\"\n",
            "/usr/local/lib/python3.7/dist-packages/sklearn/manifold/spectral_embedding_.py:235: UserWarning: Graph is not fully connected, spectral embedding may not work as expected.\n",
            "  warnings.warn(\"Graph is not fully connected, spectral embedding\"\n"
          ],
          "name": "stderr"
        },
        {
          "output_type": "stream",
          "text": [
            "Score obtained by this configuration: inf\n"
          ],
          "name": "stdout"
        },
        {
          "output_type": "stream",
          "text": [
            "WARNING:smac.tae.execute_func.ExecuteTAFuncDict:Target Algorithm returned NaN or inf as quality. Algorithm run is treated as CRASHED, cost is set to 2147483647.0 for quality scenarios. (Change value through \"cost_for_crash\"-option.)\n"
          ],
          "name": "stderr"
        },
        {
          "output_type": "stream",
          "text": [
            "Fitting configuration: \n",
            "{'clustering_choice': 'SpectralClustering', 'affinity___SpectralClustering': 'rbf', 'assign_labels___SpectralClustering': 'kmeans', 'eigen_solver___SpectralClustering': 'arpack', 'n_clusters___SpectralClustering': 57}\n",
            "Score obtained by this configuration: inf\n"
          ],
          "name": "stdout"
        },
        {
          "output_type": "stream",
          "text": [
            "WARNING:smac.tae.execute_func.ExecuteTAFuncDict:Target Algorithm returned NaN or inf as quality. Algorithm run is treated as CRASHED, cost is set to 2147483647.0 for quality scenarios. (Change value through \"cost_for_crash\"-option.)\n"
          ],
          "name": "stderr"
        },
        {
          "output_type": "stream",
          "text": [
            "Fitting configuration: \n",
            "{'clustering_choice': 'Birch', 'branching_factor___Birch': 301, 'n_clusters___Birch': 70}\n"
          ],
          "name": "stdout"
        },
        {
          "output_type": "stream",
          "text": [
            "/usr/local/lib/python3.7/dist-packages/sklearn/cluster/birch.py:627: ConvergenceWarning: Number of subclusters found (5) by Birch is less than (70). Decrease the threshold.\n",
            "  % (len(centroids), self.n_clusters), ConvergenceWarning)\n",
            "/usr/local/lib/python3.7/dist-packages/sklearn/cluster/birch.py:627: ConvergenceWarning: Number of subclusters found (5) by Birch is less than (70). Decrease the threshold.\n",
            "  % (len(centroids), self.n_clusters), ConvergenceWarning)\n",
            "/usr/local/lib/python3.7/dist-packages/sklearn/cluster/birch.py:627: ConvergenceWarning: Number of subclusters found (6) by Birch is less than (70). Decrease the threshold.\n",
            "  % (len(centroids), self.n_clusters), ConvergenceWarning)\n",
            "/usr/local/lib/python3.7/dist-packages/sklearn/cluster/birch.py:627: ConvergenceWarning: Number of subclusters found (6) by Birch is less than (70). Decrease the threshold.\n",
            "  % (len(centroids), self.n_clusters), ConvergenceWarning)\n",
            "/usr/local/lib/python3.7/dist-packages/sklearn/cluster/birch.py:627: ConvergenceWarning: Number of subclusters found (6) by Birch is less than (70). Decrease the threshold.\n",
            "  % (len(centroids), self.n_clusters), ConvergenceWarning)\n",
            "/usr/local/lib/python3.7/dist-packages/sklearn/cluster/birch.py:627: ConvergenceWarning: Number of subclusters found (5) by Birch is less than (70). Decrease the threshold.\n",
            "  % (len(centroids), self.n_clusters), ConvergenceWarning)\n"
          ],
          "name": "stderr"
        },
        {
          "output_type": "stream",
          "text": [
            "Score obtained by this configuration: 0.19863234848574354\n",
            "Fitting configuration: \n",
            "{'clustering_choice': 'DBSCAN', 'eps___DBSCAN': 0.6617601135357697, 'min_samples___DBSCAN': 43}\n",
            "Score obtained by this configuration: 0.28237755998454656\n",
            "Fitting configuration: \n",
            "{'clustering_choice': 'DBSCAN', 'eps___DBSCAN': 2.085712499312198, 'min_samples___DBSCAN': 34}\n",
            "Score obtained by this configuration: inf\n"
          ],
          "name": "stdout"
        },
        {
          "output_type": "stream",
          "text": [
            "WARNING:smac.tae.execute_func.ExecuteTAFuncDict:Target Algorithm returned NaN or inf as quality. Algorithm run is treated as CRASHED, cost is set to 2147483647.0 for quality scenarios. (Change value through \"cost_for_crash\"-option.)\n"
          ],
          "name": "stderr"
        },
        {
          "output_type": "stream",
          "text": [
            "Fitting configuration: \n",
            "{'clustering_choice': 'DBSCAN', 'eps___DBSCAN': 0.19857477445285027, 'min_samples___DBSCAN': 63}\n",
            "Score obtained by this configuration: inf\n"
          ],
          "name": "stdout"
        },
        {
          "output_type": "stream",
          "text": [
            "WARNING:smac.tae.execute_func.ExecuteTAFuncDict:Target Algorithm returned NaN or inf as quality. Algorithm run is treated as CRASHED, cost is set to 2147483647.0 for quality scenarios. (Change value through \"cost_for_crash\"-option.)\n"
          ],
          "name": "stderr"
        },
        {
          "output_type": "stream",
          "text": [
            "Fitting configuration: \n",
            "{'clustering_choice': 'SpectralClustering', 'affinity___SpectralClustering': 'laplacian', 'assign_labels___SpectralClustering': 'kmeans', 'eigen_solver___SpectralClustering': 'arpack', 'n_clusters___SpectralClustering': 7}\n",
            "Score obtained by this configuration: 0.206575713888422\n",
            "Fitting configuration: \n",
            "{'clustering_choice': 'DBSCAN', 'eps___DBSCAN': 0.5659597942159174, 'min_samples___DBSCAN': 94}\n",
            "Score obtained by this configuration: inf\n"
          ],
          "name": "stdout"
        },
        {
          "output_type": "stream",
          "text": [
            "WARNING:smac.tae.execute_func.ExecuteTAFuncDict:Target Algorithm returned NaN or inf as quality. Algorithm run is treated as CRASHED, cost is set to 2147483647.0 for quality scenarios. (Change value through \"cost_for_crash\"-option.)\n"
          ],
          "name": "stderr"
        },
        {
          "output_type": "stream",
          "text": [
            "Fitting configuration: \n",
            "{'clustering_choice': 'SpectralClustering', 'affinity___SpectralClustering': 'poly', 'assign_labels___SpectralClustering': 'kmeans', 'eigen_solver___SpectralClustering': 'arpack', 'n_clusters___SpectralClustering': 78}\n",
            "Score obtained by this configuration: inf\n"
          ],
          "name": "stdout"
        },
        {
          "output_type": "stream",
          "text": [
            "WARNING:smac.tae.execute_func.ExecuteTAFuncDict:Target Algorithm returned NaN or inf as quality. Algorithm run is treated as CRASHED, cost is set to 2147483647.0 for quality scenarios. (Change value through \"cost_for_crash\"-option.)\n"
          ],
          "name": "stderr"
        },
        {
          "output_type": "stream",
          "text": [
            "Fitting configuration: \n",
            "{'clustering_choice': 'DBSCAN', 'eps___DBSCAN': 1.488122696815869, 'min_samples___DBSCAN': 31}\n",
            "Score obtained by this configuration: 0.20228564230576374\n",
            "Fitting configuration: \n",
            "{'clustering_choice': 'DBSCAN', 'eps___DBSCAN': 2.901065068248153, 'min_samples___DBSCAN': 93}\n",
            "Score obtained by this configuration: inf\n"
          ],
          "name": "stdout"
        },
        {
          "output_type": "stream",
          "text": [
            "WARNING:smac.tae.execute_func.ExecuteTAFuncDict:Target Algorithm returned NaN or inf as quality. Algorithm run is treated as CRASHED, cost is set to 2147483647.0 for quality scenarios. (Change value through \"cost_for_crash\"-option.)\n"
          ],
          "name": "stderr"
        },
        {
          "output_type": "stream",
          "text": [
            "Fitting configuration: \n",
            "{'clustering_choice': 'DBSCAN', 'eps___DBSCAN': 1.2908616739107723, 'min_samples___DBSCAN': 44}\n",
            "Score obtained by this configuration: 0.20228564230576374\n",
            "Fitting configuration: \n",
            "{'clustering_choice': 'OPTICS', 'cluster_method___OPTICS': 'xi', 'metric___OPTICS': 'euclidean', 'min_samples___OPTICS': 625}\n"
          ],
          "name": "stdout"
        },
        {
          "output_type": "stream",
          "text": [
            "Process pynisher function call:\n",
            "Traceback (most recent call last):\n",
            "  File \"/usr/lib/python3.7/multiprocessing/process.py\", line 297, in _bootstrap\n",
            "    self.run()\n",
            "  File \"/usr/lib/python3.7/multiprocessing/process.py\", line 99, in run\n",
            "    self._target(*self._args, **self._kwargs)\n",
            "  File \"/usr/local/lib/python3.7/dist-packages/pynisher/limit_function_call.py\", line 133, in subprocess_func\n",
            "    return_value = ((func(*args, **kwargs), 0))\n",
            "  File \"/usr/local/lib/python3.7/dist-packages/autocluster/autocluster.py\", line 259, in evaluate_model\n",
            "    scaler, dim_reduction_model, clustering_model = fit_models(cfg, train_data)\n",
            "  File \"/usr/local/lib/python3.7/dist-packages/autocluster/autocluster.py\", line 227, in fit_models\n",
            "    clustering_model.fit(compressed_data)\n",
            "  File \"/usr/local/lib/python3.7/dist-packages/sklearn/cluster/optics_.py\", line 248, in fit\n",
            "    max_eps=self.max_eps)\n",
            "  File \"/usr/local/lib/python3.7/dist-packages/sklearn/cluster/optics_.py\", line 438, in compute_optics_graph\n",
            "    _validate_size(min_samples, n_samples, 'min_samples')\n",
            "  File \"/usr/local/lib/python3.7/dist-packages/sklearn/cluster/optics_.py\", line 290, in _validate_size\n",
            "    (param_name, n_samples, size))\n",
            "ValueError: min_samples must be no greater than the number of samples (468). Got 625\n"
          ],
          "name": "stderr"
        },
        {
          "output_type": "stream",
          "text": [
            "Fitting configuration: \n",
            "{'clustering_choice': 'DBSCAN', 'eps___DBSCAN': 0.04605604939318385, 'min_samples___DBSCAN': 44}\n",
            "Score obtained by this configuration: 0.3088781093758466\n",
            "Fitting configuration: \n",
            "{'clustering_choice': 'Birch', 'branching_factor___Birch': 421, 'n_clusters___Birch': 29}\n"
          ],
          "name": "stdout"
        },
        {
          "output_type": "stream",
          "text": [
            "/usr/local/lib/python3.7/dist-packages/sklearn/cluster/birch.py:627: ConvergenceWarning: Number of subclusters found (5) by Birch is less than (29). Decrease the threshold.\n",
            "  % (len(centroids), self.n_clusters), ConvergenceWarning)\n",
            "/usr/local/lib/python3.7/dist-packages/sklearn/cluster/birch.py:627: ConvergenceWarning: Number of subclusters found (5) by Birch is less than (29). Decrease the threshold.\n",
            "  % (len(centroids), self.n_clusters), ConvergenceWarning)\n",
            "/usr/local/lib/python3.7/dist-packages/sklearn/cluster/birch.py:627: ConvergenceWarning: Number of subclusters found (6) by Birch is less than (29). Decrease the threshold.\n",
            "  % (len(centroids), self.n_clusters), ConvergenceWarning)\n",
            "/usr/local/lib/python3.7/dist-packages/sklearn/cluster/birch.py:627: ConvergenceWarning: Number of subclusters found (6) by Birch is less than (29). Decrease the threshold.\n",
            "  % (len(centroids), self.n_clusters), ConvergenceWarning)\n",
            "/usr/local/lib/python3.7/dist-packages/sklearn/cluster/birch.py:627: ConvergenceWarning: Number of subclusters found (6) by Birch is less than (29). Decrease the threshold.\n",
            "  % (len(centroids), self.n_clusters), ConvergenceWarning)\n",
            "/usr/local/lib/python3.7/dist-packages/sklearn/cluster/birch.py:627: ConvergenceWarning: Number of subclusters found (5) by Birch is less than (29). Decrease the threshold.\n",
            "  % (len(centroids), self.n_clusters), ConvergenceWarning)\n"
          ],
          "name": "stderr"
        },
        {
          "output_type": "stream",
          "text": [
            "Score obtained by this configuration: 0.19863234848574354\n",
            "Fitting configuration: \n",
            "{'clustering_choice': 'DBSCAN', 'eps___DBSCAN': 0.7909182403597552, 'min_samples___DBSCAN': 46}\n",
            "Score obtained by this configuration: 0.33125752544602255\n",
            "Fitting configuration: \n",
            "{'clustering_choice': 'DBSCAN', 'eps___DBSCAN': 0.930625080523604, 'min_samples___DBSCAN': 47}\n",
            "Score obtained by this configuration: 0.29701275412083644\n",
            "Fitting configuration: \n",
            "{'clustering_choice': 'OPTICS', 'cluster_method___OPTICS': 'dbscan', 'metric___OPTICS': 'euclidean', 'min_samples___OPTICS': 86}\n",
            "Score obtained by this configuration: inf\n"
          ],
          "name": "stdout"
        },
        {
          "output_type": "stream",
          "text": [
            "WARNING:smac.tae.execute_func.ExecuteTAFuncDict:Target Algorithm returned NaN or inf as quality. Algorithm run is treated as CRASHED, cost is set to 2147483647.0 for quality scenarios. (Change value through \"cost_for_crash\"-option.)\n"
          ],
          "name": "stderr"
        },
        {
          "output_type": "stream",
          "text": [
            "Fitting configuration: \n",
            "{'clustering_choice': 'DBSCAN', 'eps___DBSCAN': 0.5775823297994411, 'min_samples___DBSCAN': 5}\n",
            "Score obtained by this configuration: 0.2241388241719885\n",
            "Fitting configuration: \n",
            "{'clustering_choice': 'DBSCAN', 'eps___DBSCAN': 3.755718818758362, 'min_samples___DBSCAN': 12}\n",
            "Score obtained by this configuration: inf\n"
          ],
          "name": "stdout"
        },
        {
          "output_type": "stream",
          "text": [
            "WARNING:smac.tae.execute_func.ExecuteTAFuncDict:Target Algorithm returned NaN or inf as quality. Algorithm run is treated as CRASHED, cost is set to 2147483647.0 for quality scenarios. (Change value through \"cost_for_crash\"-option.)\n"
          ],
          "name": "stderr"
        },
        {
          "output_type": "stream",
          "text": [
            "Fitting configuration: \n",
            "{'clustering_choice': 'DBSCAN', 'eps___DBSCAN': 0.6171734785340646, 'min_samples___DBSCAN': 6}\n",
            "Score obtained by this configuration: 0.23635805467279605\n",
            "Fitting configuration: \n",
            "{'clustering_choice': 'DBSCAN', 'eps___DBSCAN': 0.1845114268564463, 'min_samples___DBSCAN': 46}\n",
            "Score obtained by this configuration: 0.3292871135025061\n",
            "Fitting configuration: \n",
            "{'clustering_choice': 'KMeans', 'n_clusters___KMeans': 49}\n"
          ],
          "name": "stdout"
        },
        {
          "output_type": "stream",
          "text": [
            "/usr/local/lib/python3.7/dist-packages/sklearn/cluster/k_means_.py:972: ConvergenceWarning: Number of distinct clusters (37) found smaller than n_clusters (49). Possibly due to duplicate points in X.\n",
            "  return_n_iter=True)\n",
            "/usr/local/lib/python3.7/dist-packages/sklearn/cluster/k_means_.py:972: ConvergenceWarning: Number of distinct clusters (36) found smaller than n_clusters (49). Possibly due to duplicate points in X.\n",
            "  return_n_iter=True)\n"
          ],
          "name": "stderr"
        },
        {
          "output_type": "stream",
          "text": [
            "Score obtained by this configuration: inf\n"
          ],
          "name": "stdout"
        },
        {
          "output_type": "stream",
          "text": [
            "WARNING:smac.tae.execute_func.ExecuteTAFuncDict:Target Algorithm returned NaN or inf as quality. Algorithm run is treated as CRASHED, cost is set to 2147483647.0 for quality scenarios. (Change value through \"cost_for_crash\"-option.)\n"
          ],
          "name": "stderr"
        },
        {
          "output_type": "stream",
          "text": [
            "Fitting configuration: \n",
            "{'clustering_choice': 'DBSCAN', 'eps___DBSCAN': 1.228838241489788, 'min_samples___DBSCAN': 47}\n",
            "Score obtained by this configuration: 0.20228564230576374\n",
            "Fitting configuration: \n",
            "{'clustering_choice': 'OPTICS', 'cluster_method___OPTICS': 'xi', 'metric___OPTICS': 'minkowski', 'min_samples___OPTICS': 954}\n"
          ],
          "name": "stdout"
        },
        {
          "output_type": "stream",
          "text": [
            "Process pynisher function call:\n",
            "Traceback (most recent call last):\n",
            "  File \"/usr/lib/python3.7/multiprocessing/process.py\", line 297, in _bootstrap\n",
            "    self.run()\n",
            "  File \"/usr/lib/python3.7/multiprocessing/process.py\", line 99, in run\n",
            "    self._target(*self._args, **self._kwargs)\n",
            "  File \"/usr/local/lib/python3.7/dist-packages/pynisher/limit_function_call.py\", line 133, in subprocess_func\n",
            "    return_value = ((func(*args, **kwargs), 0))\n",
            "  File \"/usr/local/lib/python3.7/dist-packages/autocluster/autocluster.py\", line 259, in evaluate_model\n",
            "    scaler, dim_reduction_model, clustering_model = fit_models(cfg, train_data)\n",
            "  File \"/usr/local/lib/python3.7/dist-packages/autocluster/autocluster.py\", line 227, in fit_models\n",
            "    clustering_model.fit(compressed_data)\n",
            "  File \"/usr/local/lib/python3.7/dist-packages/sklearn/cluster/optics_.py\", line 248, in fit\n",
            "    max_eps=self.max_eps)\n",
            "  File \"/usr/local/lib/python3.7/dist-packages/sklearn/cluster/optics_.py\", line 438, in compute_optics_graph\n",
            "    _validate_size(min_samples, n_samples, 'min_samples')\n",
            "  File \"/usr/local/lib/python3.7/dist-packages/sklearn/cluster/optics_.py\", line 290, in _validate_size\n",
            "    (param_name, n_samples, size))\n",
            "ValueError: min_samples must be no greater than the number of samples (468). Got 954\n"
          ],
          "name": "stderr"
        },
        {
          "output_type": "stream",
          "text": [
            "Fitting configuration: \n",
            "{'clustering_choice': 'DBSCAN', 'eps___DBSCAN': 1.4666801458698344, 'min_samples___DBSCAN': 54}\n",
            "Score obtained by this configuration: 0.20228564230576374\n",
            "Fitting configuration: \n",
            "{'clustering_choice': 'DBSCAN', 'eps___DBSCAN': 3.407453594134401, 'min_samples___DBSCAN': 7}\n",
            "Score obtained by this configuration: inf\n"
          ],
          "name": "stdout"
        },
        {
          "output_type": "stream",
          "text": [
            "WARNING:smac.tae.execute_func.ExecuteTAFuncDict:Target Algorithm returned NaN or inf as quality. Algorithm run is treated as CRASHED, cost is set to 2147483647.0 for quality scenarios. (Change value through \"cost_for_crash\"-option.)\n"
          ],
          "name": "stderr"
        },
        {
          "output_type": "stream",
          "text": [
            "Fitting configuration: \n",
            "{'clustering_choice': 'DBSCAN', 'eps___DBSCAN': 1.4061299567155008, 'min_samples___DBSCAN': 53}\n",
            "Score obtained by this configuration: 0.20228564230576374\n",
            "Fitting configuration: \n",
            "{'clustering_choice': 'DBSCAN', 'eps___DBSCAN': 1.2716497001408245, 'min_samples___DBSCAN': 55}\n",
            "Score obtained by this configuration: 0.20228564230576374\n",
            "Fitting configuration: \n",
            "{'clustering_choice': 'DBSCAN', 'eps___DBSCAN': 4.106232222418921, 'min_samples___DBSCAN': 95}\n",
            "Score obtained by this configuration: inf\n"
          ],
          "name": "stdout"
        },
        {
          "output_type": "stream",
          "text": [
            "WARNING:smac.tae.execute_func.ExecuteTAFuncDict:Target Algorithm returned NaN or inf as quality. Algorithm run is treated as CRASHED, cost is set to 2147483647.0 for quality scenarios. (Change value through \"cost_for_crash\"-option.)\n"
          ],
          "name": "stderr"
        },
        {
          "output_type": "stream",
          "text": [
            "Fitting configuration: \n",
            "{'clustering_choice': 'DBSCAN', 'eps___DBSCAN': 1.24866619295356, 'min_samples___DBSCAN': 57}\n",
            "Score obtained by this configuration: 0.20228564230576374\n",
            "Fitting configuration: \n",
            "{'clustering_choice': 'KMeans', 'n_clusters___KMeans': 40}\n"
          ],
          "name": "stdout"
        },
        {
          "output_type": "stream",
          "text": [
            "/usr/local/lib/python3.7/dist-packages/sklearn/cluster/k_means_.py:972: ConvergenceWarning: Number of distinct clusters (37) found smaller than n_clusters (40). Possibly due to duplicate points in X.\n",
            "  return_n_iter=True)\n",
            "/usr/local/lib/python3.7/dist-packages/sklearn/cluster/k_means_.py:972: ConvergenceWarning: Number of distinct clusters (36) found smaller than n_clusters (40). Possibly due to duplicate points in X.\n",
            "  return_n_iter=True)\n"
          ],
          "name": "stderr"
        },
        {
          "output_type": "stream",
          "text": [
            "Score obtained by this configuration: inf\n"
          ],
          "name": "stdout"
        },
        {
          "output_type": "stream",
          "text": [
            "WARNING:smac.tae.execute_func.ExecuteTAFuncDict:Target Algorithm returned NaN or inf as quality. Algorithm run is treated as CRASHED, cost is set to 2147483647.0 for quality scenarios. (Change value through \"cost_for_crash\"-option.)\n"
          ],
          "name": "stderr"
        },
        {
          "output_type": "stream",
          "text": [
            "Fitting configuration: \n",
            "{'clustering_choice': 'DBSCAN', 'eps___DBSCAN': 1.1169624748778142, 'min_samples___DBSCAN': 62}\n",
            "Score obtained by this configuration: 0.20228564230576374\n",
            "Fitting configuration: \n",
            "{'clustering_choice': 'SpectralClustering', 'affinity___SpectralClustering': 'nearest_neighbors', 'assign_labels___SpectralClustering': 'kmeans', 'eigen_solver___SpectralClustering': 'arpack', 'n_clusters___SpectralClustering': 70}\n"
          ],
          "name": "stdout"
        },
        {
          "output_type": "stream",
          "text": [
            "/usr/local/lib/python3.7/dist-packages/sklearn/manifold/spectral_embedding_.py:235: UserWarning: Graph is not fully connected, spectral embedding may not work as expected.\n",
            "  warnings.warn(\"Graph is not fully connected, spectral embedding\"\n",
            "/usr/local/lib/python3.7/dist-packages/sklearn/manifold/spectral_embedding_.py:235: UserWarning: Graph is not fully connected, spectral embedding may not work as expected.\n",
            "  warnings.warn(\"Graph is not fully connected, spectral embedding\"\n"
          ],
          "name": "stderr"
        },
        {
          "output_type": "stream",
          "text": [
            "Score obtained by this configuration: inf\n"
          ],
          "name": "stdout"
        },
        {
          "output_type": "stream",
          "text": [
            "WARNING:smac.tae.execute_func.ExecuteTAFuncDict:Target Algorithm returned NaN or inf as quality. Algorithm run is treated as CRASHED, cost is set to 2147483647.0 for quality scenarios. (Change value through \"cost_for_crash\"-option.)\n"
          ],
          "name": "stderr"
        },
        {
          "output_type": "stream",
          "text": [
            "Fitting configuration: \n",
            "{'clustering_choice': 'DBSCAN', 'eps___DBSCAN': 0.1378901021480494, 'min_samples___DBSCAN': 54}\n",
            "Score obtained by this configuration: inf\n"
          ],
          "name": "stdout"
        },
        {
          "output_type": "stream",
          "text": [
            "WARNING:smac.tae.execute_func.ExecuteTAFuncDict:Target Algorithm returned NaN or inf as quality. Algorithm run is treated as CRASHED, cost is set to 2147483647.0 for quality scenarios. (Change value through \"cost_for_crash\"-option.)\n"
          ],
          "name": "stderr"
        },
        {
          "output_type": "stream",
          "text": [
            "Fitting configuration: \n",
            "{'clustering_choice': 'DBSCAN', 'eps___DBSCAN': 2.80132584306987, 'min_samples___DBSCAN': 60}\n",
            "Score obtained by this configuration: inf\n"
          ],
          "name": "stdout"
        },
        {
          "output_type": "stream",
          "text": [
            "WARNING:smac.tae.execute_func.ExecuteTAFuncDict:Target Algorithm returned NaN or inf as quality. Algorithm run is treated as CRASHED, cost is set to 2147483647.0 for quality scenarios. (Change value through \"cost_for_crash\"-option.)\n"
          ],
          "name": "stderr"
        },
        {
          "output_type": "stream",
          "text": [
            "Fitting configuration: \n",
            "{'clustering_choice': 'DBSCAN', 'eps___DBSCAN': 0.06445749486305902, 'min_samples___DBSCAN': 54}\n",
            "Score obtained by this configuration: inf\n"
          ],
          "name": "stdout"
        },
        {
          "output_type": "stream",
          "text": [
            "WARNING:smac.tae.execute_func.ExecuteTAFuncDict:Target Algorithm returned NaN or inf as quality. Algorithm run is treated as CRASHED, cost is set to 2147483647.0 for quality scenarios. (Change value through \"cost_for_crash\"-option.)\n"
          ],
          "name": "stderr"
        },
        {
          "output_type": "stream",
          "text": [
            "Fitting configuration: \n",
            "{'clustering_choice': 'Birch', 'branching_factor___Birch': 946, 'n_clusters___Birch': 8}\n"
          ],
          "name": "stdout"
        },
        {
          "output_type": "stream",
          "text": [
            "/usr/local/lib/python3.7/dist-packages/sklearn/cluster/birch.py:627: ConvergenceWarning: Number of subclusters found (5) by Birch is less than (8). Decrease the threshold.\n",
            "  % (len(centroids), self.n_clusters), ConvergenceWarning)\n",
            "/usr/local/lib/python3.7/dist-packages/sklearn/cluster/birch.py:627: ConvergenceWarning: Number of subclusters found (5) by Birch is less than (8). Decrease the threshold.\n",
            "  % (len(centroids), self.n_clusters), ConvergenceWarning)\n",
            "/usr/local/lib/python3.7/dist-packages/sklearn/cluster/birch.py:627: ConvergenceWarning: Number of subclusters found (6) by Birch is less than (8). Decrease the threshold.\n",
            "  % (len(centroids), self.n_clusters), ConvergenceWarning)\n",
            "/usr/local/lib/python3.7/dist-packages/sklearn/cluster/birch.py:627: ConvergenceWarning: Number of subclusters found (6) by Birch is less than (8). Decrease the threshold.\n",
            "  % (len(centroids), self.n_clusters), ConvergenceWarning)\n",
            "/usr/local/lib/python3.7/dist-packages/sklearn/cluster/birch.py:627: ConvergenceWarning: Number of subclusters found (6) by Birch is less than (8). Decrease the threshold.\n",
            "  % (len(centroids), self.n_clusters), ConvergenceWarning)\n",
            "/usr/local/lib/python3.7/dist-packages/sklearn/cluster/birch.py:627: ConvergenceWarning: Number of subclusters found (5) by Birch is less than (8). Decrease the threshold.\n",
            "  % (len(centroids), self.n_clusters), ConvergenceWarning)\n"
          ],
          "name": "stderr"
        },
        {
          "output_type": "stream",
          "text": [
            "Score obtained by this configuration: 0.19863234848574354\n",
            "Fitting configuration: \n",
            "{'clustering_choice': 'DBSCAN', 'eps___DBSCAN': 1.1066016990793648, 'min_samples___DBSCAN': 72}\n",
            "Score obtained by this configuration: 0.29909490730891625\n",
            "Fitting configuration: \n",
            "{'clustering_choice': 'KMeans', 'n_clusters___KMeans': 3}\n",
            "Score obtained by this configuration: 0.20705309753364462\n",
            "Fitting configuration: \n",
            "{'clustering_choice': 'DBSCAN', 'eps___DBSCAN': 1.4348721950009775, 'min_samples___DBSCAN': 86}\n",
            "Score obtained by this configuration: 0.20228564230576374\n",
            "Fitting configuration: \n",
            "{'clustering_choice': 'KMeans', 'n_clusters___KMeans': 54}\n"
          ],
          "name": "stdout"
        },
        {
          "output_type": "stream",
          "text": [
            "/usr/local/lib/python3.7/dist-packages/sklearn/cluster/k_means_.py:972: ConvergenceWarning: Number of distinct clusters (37) found smaller than n_clusters (54). Possibly due to duplicate points in X.\n",
            "  return_n_iter=True)\n",
            "/usr/local/lib/python3.7/dist-packages/sklearn/cluster/k_means_.py:972: ConvergenceWarning: Number of distinct clusters (36) found smaller than n_clusters (54). Possibly due to duplicate points in X.\n",
            "  return_n_iter=True)\n"
          ],
          "name": "stderr"
        },
        {
          "output_type": "stream",
          "text": [
            "Score obtained by this configuration: inf\n"
          ],
          "name": "stdout"
        },
        {
          "output_type": "stream",
          "text": [
            "WARNING:smac.tae.execute_func.ExecuteTAFuncDict:Target Algorithm returned NaN or inf as quality. Algorithm run is treated as CRASHED, cost is set to 2147483647.0 for quality scenarios. (Change value through \"cost_for_crash\"-option.)\n"
          ],
          "name": "stderr"
        },
        {
          "output_type": "stream",
          "text": [
            "Fitting configuration: \n",
            "{'clustering_choice': 'DBSCAN', 'eps___DBSCAN': 0.5716511145843858, 'min_samples___DBSCAN': 52}\n",
            "Score obtained by this configuration: 0.2859223337821426\n",
            "Fitting configuration: \n",
            "{'clustering_choice': 'Birch', 'branching_factor___Birch': 306, 'n_clusters___Birch': 17}\n"
          ],
          "name": "stdout"
        },
        {
          "output_type": "stream",
          "text": [
            "/usr/local/lib/python3.7/dist-packages/sklearn/cluster/birch.py:627: ConvergenceWarning: Number of subclusters found (5) by Birch is less than (17). Decrease the threshold.\n",
            "  % (len(centroids), self.n_clusters), ConvergenceWarning)\n",
            "/usr/local/lib/python3.7/dist-packages/sklearn/cluster/birch.py:627: ConvergenceWarning: Number of subclusters found (5) by Birch is less than (17). Decrease the threshold.\n",
            "  % (len(centroids), self.n_clusters), ConvergenceWarning)\n",
            "/usr/local/lib/python3.7/dist-packages/sklearn/cluster/birch.py:627: ConvergenceWarning: Number of subclusters found (6) by Birch is less than (17). Decrease the threshold.\n",
            "  % (len(centroids), self.n_clusters), ConvergenceWarning)\n",
            "/usr/local/lib/python3.7/dist-packages/sklearn/cluster/birch.py:627: ConvergenceWarning: Number of subclusters found (6) by Birch is less than (17). Decrease the threshold.\n",
            "  % (len(centroids), self.n_clusters), ConvergenceWarning)\n",
            "/usr/local/lib/python3.7/dist-packages/sklearn/cluster/birch.py:627: ConvergenceWarning: Number of subclusters found (6) by Birch is less than (17). Decrease the threshold.\n",
            "  % (len(centroids), self.n_clusters), ConvergenceWarning)\n",
            "/usr/local/lib/python3.7/dist-packages/sklearn/cluster/birch.py:627: ConvergenceWarning: Number of subclusters found (5) by Birch is less than (17). Decrease the threshold.\n",
            "  % (len(centroids), self.n_clusters), ConvergenceWarning)\n"
          ],
          "name": "stderr"
        },
        {
          "output_type": "stream",
          "text": [
            "Score obtained by this configuration: 0.19863234848574354\n",
            "Fitting configuration: \n",
            "{'clustering_choice': 'DBSCAN', 'eps___DBSCAN': 1.5798744994421514, 'min_samples___DBSCAN': 55}\n",
            "Score obtained by this configuration: 0.20228564230576374\n",
            "Fitting configuration: \n",
            "{'clustering_choice': 'SpectralClustering', 'affinity___SpectralClustering': 'poly', 'assign_labels___SpectralClustering': 'discretize', 'eigen_solver___SpectralClustering': 'arpack', 'n_clusters___SpectralClustering': 22}\n",
            "Score obtained by this configuration: inf\n"
          ],
          "name": "stdout"
        },
        {
          "output_type": "stream",
          "text": [
            "WARNING:smac.tae.execute_func.ExecuteTAFuncDict:Target Algorithm returned NaN or inf as quality. Algorithm run is treated as CRASHED, cost is set to 2147483647.0 for quality scenarios. (Change value through \"cost_for_crash\"-option.)\n"
          ],
          "name": "stderr"
        },
        {
          "output_type": "stream",
          "text": [
            "Fitting configuration: \n",
            "{'clustering_choice': 'DBSCAN', 'eps___DBSCAN': 0.01, 'min_samples___DBSCAN': 28}\n",
            "Score obtained by this configuration: 0.38215424830935046\n",
            "Fitting configuration: \n",
            "{'clustering_choice': 'Birch', 'branching_factor___Birch': 351, 'n_clusters___Birch': 41}\n"
          ],
          "name": "stdout"
        },
        {
          "output_type": "stream",
          "text": [
            "/usr/local/lib/python3.7/dist-packages/sklearn/cluster/birch.py:627: ConvergenceWarning: Number of subclusters found (5) by Birch is less than (41). Decrease the threshold.\n",
            "  % (len(centroids), self.n_clusters), ConvergenceWarning)\n",
            "/usr/local/lib/python3.7/dist-packages/sklearn/cluster/birch.py:627: ConvergenceWarning: Number of subclusters found (5) by Birch is less than (41). Decrease the threshold.\n",
            "  % (len(centroids), self.n_clusters), ConvergenceWarning)\n",
            "/usr/local/lib/python3.7/dist-packages/sklearn/cluster/birch.py:627: ConvergenceWarning: Number of subclusters found (6) by Birch is less than (41). Decrease the threshold.\n",
            "  % (len(centroids), self.n_clusters), ConvergenceWarning)\n",
            "/usr/local/lib/python3.7/dist-packages/sklearn/cluster/birch.py:627: ConvergenceWarning: Number of subclusters found (6) by Birch is less than (41). Decrease the threshold.\n",
            "  % (len(centroids), self.n_clusters), ConvergenceWarning)\n",
            "/usr/local/lib/python3.7/dist-packages/sklearn/cluster/birch.py:627: ConvergenceWarning: Number of subclusters found (6) by Birch is less than (41). Decrease the threshold.\n",
            "  % (len(centroids), self.n_clusters), ConvergenceWarning)\n",
            "/usr/local/lib/python3.7/dist-packages/sklearn/cluster/birch.py:627: ConvergenceWarning: Number of subclusters found (5) by Birch is less than (41). Decrease the threshold.\n",
            "  % (len(centroids), self.n_clusters), ConvergenceWarning)\n"
          ],
          "name": "stderr"
        },
        {
          "output_type": "stream",
          "text": [
            "Score obtained by this configuration: 0.19863234848574354\n",
            "Fitting configuration: \n",
            "{'clustering_choice': 'DBSCAN', 'eps___DBSCAN': 0.30193969718272007, 'min_samples___DBSCAN': 16}\n",
            "Score obtained by this configuration: 0.2871981707179187\n",
            "Fitting configuration: \n",
            "{'clustering_choice': 'DBSCAN', 'eps___DBSCAN': 4.574387863511959, 'min_samples___DBSCAN': 46}\n",
            "Score obtained by this configuration: inf\n"
          ],
          "name": "stdout"
        },
        {
          "output_type": "stream",
          "text": [
            "WARNING:smac.tae.execute_func.ExecuteTAFuncDict:Target Algorithm returned NaN or inf as quality. Algorithm run is treated as CRASHED, cost is set to 2147483647.0 for quality scenarios. (Change value through \"cost_for_crash\"-option.)\n"
          ],
          "name": "stderr"
        },
        {
          "output_type": "stream",
          "text": [
            "Fitting configuration: \n",
            "{'clustering_choice': 'DBSCAN', 'eps___DBSCAN': 0.2804165853645338, 'min_samples___DBSCAN': 18}\n",
            "Score obtained by this configuration: 0.2755477507939423\n",
            "Fitting configuration: \n",
            "{'clustering_choice': 'DBSCAN', 'eps___DBSCAN': 0.6040146109891215, 'min_samples___DBSCAN': 53}\n",
            "Score obtained by this configuration: 0.2841465917417312\n",
            "Fitting configuration: \n",
            "{'clustering_choice': 'DBSCAN', 'eps___DBSCAN': 3.32434464843232, 'min_samples___DBSCAN': 22}\n",
            "Score obtained by this configuration: inf\n"
          ],
          "name": "stdout"
        },
        {
          "output_type": "stream",
          "text": [
            "WARNING:smac.tae.execute_func.ExecuteTAFuncDict:Target Algorithm returned NaN or inf as quality. Algorithm run is treated as CRASHED, cost is set to 2147483647.0 for quality scenarios. (Change value through \"cost_for_crash\"-option.)\n"
          ],
          "name": "stderr"
        },
        {
          "output_type": "stream",
          "text": [
            "Fitting configuration: \n",
            "{'clustering_choice': 'DBSCAN', 'eps___DBSCAN': 0.6459329763100045, 'min_samples___DBSCAN': 53}\n",
            "Score obtained by this configuration: 0.2832343189371387\n",
            "Fitting configuration: \n",
            "{'clustering_choice': 'DBSCAN', 'eps___DBSCAN': 0.14470674166231745, 'min_samples___DBSCAN': 50}\n",
            "Score obtained by this configuration: inf\n"
          ],
          "name": "stdout"
        },
        {
          "output_type": "stream",
          "text": [
            "WARNING:smac.tae.execute_func.ExecuteTAFuncDict:Target Algorithm returned NaN or inf as quality. Algorithm run is treated as CRASHED, cost is set to 2147483647.0 for quality scenarios. (Change value through \"cost_for_crash\"-option.)\n"
          ],
          "name": "stderr"
        },
        {
          "output_type": "stream",
          "text": [
            "Fitting configuration: \n",
            "{'clustering_choice': 'SpectralClustering', 'affinity___SpectralClustering': 'laplacian', 'assign_labels___SpectralClustering': 'discretize', 'eigen_solver___SpectralClustering': 'arpack', 'n_clusters___SpectralClustering': 73}\n",
            "Score obtained by this configuration: inf\n"
          ],
          "name": "stdout"
        },
        {
          "output_type": "stream",
          "text": [
            "WARNING:smac.tae.execute_func.ExecuteTAFuncDict:Target Algorithm returned NaN or inf as quality. Algorithm run is treated as CRASHED, cost is set to 2147483647.0 for quality scenarios. (Change value through \"cost_for_crash\"-option.)\n"
          ],
          "name": "stderr"
        },
        {
          "output_type": "stream",
          "text": [
            "Fitting configuration: \n",
            "{'clustering_choice': 'OPTICS', 'cluster_method___OPTICS': 'dbscan', 'metric___OPTICS': 'cosine', 'min_samples___OPTICS': 830}\n"
          ],
          "name": "stdout"
        },
        {
          "output_type": "stream",
          "text": [
            "Process pynisher function call:\n",
            "Traceback (most recent call last):\n",
            "  File \"/usr/lib/python3.7/multiprocessing/process.py\", line 297, in _bootstrap\n",
            "    self.run()\n",
            "  File \"/usr/lib/python3.7/multiprocessing/process.py\", line 99, in run\n",
            "    self._target(*self._args, **self._kwargs)\n",
            "  File \"/usr/local/lib/python3.7/dist-packages/pynisher/limit_function_call.py\", line 133, in subprocess_func\n",
            "    return_value = ((func(*args, **kwargs), 0))\n",
            "  File \"/usr/local/lib/python3.7/dist-packages/autocluster/autocluster.py\", line 259, in evaluate_model\n",
            "    scaler, dim_reduction_model, clustering_model = fit_models(cfg, train_data)\n",
            "  File \"/usr/local/lib/python3.7/dist-packages/autocluster/autocluster.py\", line 227, in fit_models\n",
            "    clustering_model.fit(compressed_data)\n",
            "  File \"/usr/local/lib/python3.7/dist-packages/sklearn/cluster/optics_.py\", line 248, in fit\n",
            "    max_eps=self.max_eps)\n",
            "  File \"/usr/local/lib/python3.7/dist-packages/sklearn/cluster/optics_.py\", line 438, in compute_optics_graph\n",
            "    _validate_size(min_samples, n_samples, 'min_samples')\n",
            "  File \"/usr/local/lib/python3.7/dist-packages/sklearn/cluster/optics_.py\", line 290, in _validate_size\n",
            "    (param_name, n_samples, size))\n",
            "ValueError: min_samples must be no greater than the number of samples (468). Got 830\n"
          ],
          "name": "stderr"
        },
        {
          "output_type": "stream",
          "text": [
            "Fitting configuration: \n",
            "{'clustering_choice': 'DBSCAN', 'eps___DBSCAN': 0.3488207314866455, 'min_samples___DBSCAN': 48}\n",
            "Score obtained by this configuration: 0.3419317338493501\n",
            "Fitting configuration: \n",
            "{'clustering_choice': 'DBSCAN', 'eps___DBSCAN': 1.6149765494854469, 'min_samples___DBSCAN': 85}\n",
            "Score obtained by this configuration: 0.20228564230576374\n",
            "Fitting configuration: \n",
            "{'clustering_choice': 'KMeans', 'n_clusters___KMeans': 5}\n",
            "Score obtained by this configuration: 0.19953731856009124\n",
            "Fitting configuration: \n",
            "{'clustering_choice': 'DBSCAN', 'eps___DBSCAN': 1.351329231105173, 'min_samples___DBSCAN': 92}\n",
            "Score obtained by this configuration: 0.20228564230576374\n",
            "Optimization is complete.\n",
            "Took 29.32 seconds.\n",
            "The optimal configuration is \n",
            "Configuration:\n",
            "  branching_factor___Birch, Value: 750\n",
            "  clustering_choice, Value: 'Birch'\n",
            "  n_clusters___Birch, Value: 77\n",
            "\n"
          ],
          "name": "stdout"
        },
        {
          "output_type": "stream",
          "text": [
            "/usr/local/lib/python3.7/dist-packages/sklearn/cluster/birch.py:627: ConvergenceWarning: Number of subclusters found (6) by Birch is less than (77). Decrease the threshold.\n",
            "  % (len(centroids), self.n_clusters), ConvergenceWarning)\n"
          ],
          "name": "stderr"
        }
      ]
    },
    {
      "cell_type": "code",
      "metadata": {
        "colab": {
          "base_uri": "https://localhost:8080/",
          "height": 595
        },
        "id": "xa7R4XRjbcRq",
        "outputId": "2fe8d156-13b6-42ee-a848-9e9ec3d18232"
      },
      "source": [
        "predictions = cluster.predict(dummy_df, save_plot=False)"
      ],
      "execution_count": 5,
      "outputs": [
        {
          "output_type": "display_data",
          "data": {
            "image/png": "[encoded data removed]",
            "text/plain": [
              "<Figure size 720x720 with 1 Axes>"
            ]
          },
          "metadata": {
            "tags": [],
            "needs_background": "dark"
          }
        }
      ]
    }
  ]
}